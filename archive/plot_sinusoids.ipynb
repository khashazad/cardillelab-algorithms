{
  "cells": [
    {
      "cell_type": "markdown",
      "metadata": {
        "id": "view-in-github",
        "colab_type": "text"
      },
      "source": [
        "<a href=\"https://colab.research.google.com/github/boothmanrylan/eeek/blob/main/plot_sinusoids.ipynb\" target=\"_parent\"><img src=\"https://colab.research.google.com/assets/colab-badge.svg\" alt=\"Open In Colab\"/></a>"
      ]
    },
    {
      "cell_type": "code",
      "execution_count": null,
      "id": "898313e3-eaa0-49c6-91dd-7613391f3ead",
      "metadata": {
        "id": "898313e3-eaa0-49c6-91dd-7613391f3ead"
      },
      "outputs": [],
      "source": [
        "%load_ext autoreload\n",
        "%autoreload 2"
      ]
    },
    {
      "cell_type": "code",
      "execution_count": null,
      "id": "b19700a7-e4f0-42f9-9fbf-5e3d398aa8d4",
      "metadata": {
        "id": "b19700a7-e4f0-42f9-9fbf-5e3d398aa8d4"
      },
      "outputs": [],
      "source": [
        "import ee\n",
        "import geemap\n",
        "import ipywidgets"
      ]
    },
    {
      "cell_type": "code",
      "execution_count": null,
      "id": "86139076-6bba-48e4-b4c1-acb0a6296c45",
      "metadata": {
        "id": "86139076-6bba-48e4-b4c1-acb0a6296c45"
      },
      "outputs": [],
      "source": [
        "geemap.ee_initialize()"
      ]
    },
    {
      "cell_type": "code",
      "source": [
        "!git clone https://github.com/boothmanrylan/eeek.git\n",
        "%cd eeek"
      ],
      "metadata": {
        "id": "Mn8hvvPCW4aH"
      },
      "id": "Mn8hvvPCW4aH",
      "execution_count": null,
      "outputs": []
    },
    {
      "cell_type": "code",
      "execution_count": null,
      "id": "166574e4-151b-41e4-a631-ab1d275c9d1f",
      "metadata": {
        "id": "166574e4-151b-41e4-a631-ab1d275c9d1f"
      },
      "outputs": [],
      "source": [
        "from eeek import utils, bulc, constants, ccdc_utils, vis_utils\n",
        "from eeek.kalman_filter import kalman_filter"
      ]
    },
    {
      "cell_type": "code",
      "execution_count": null,
      "id": "60b0575f-cea6-4a7f-ad10-96c09ee07e2b",
      "metadata": {
        "id": "60b0575f-cea6-4a7f-ad10-96c09ee07e2b"
      },
      "outputs": [],
      "source": [
        "target_image = ee.Image(\"users/parevalo_bu/ccdc_long\")\n",
        "segments = [\"S\" + str(x) for x in range(1, 11)]\n",
        "bands = [\"SWIR1\"]\n",
        "target_coefs = ccdc_utils.get_ccdc_coefs(target_image, segments, bands, 2022, None).rename(ccdc_utils.HARMONIC_TAGS)\n",
        "\n",
        "jeffs = ee.Image(\"users/boothmanrylan/kalman_filter/jeffs_constant_kalman_result\")\n",
        "cloud_score = ee.Image(\"users/boothmanrylan/kalman_filter/cloud_score_kalman_result\")\n",
        "bulc = ee.Image(\"users/boothmanrylan/kalman_filter/bulc_as_noise_kalman_result\")\n",
        "bulc_cloud_score = ee.Image(\"users/boothmanrylan/kalman_filter/bulc_plus_cloud_score_kalman_result\")\n",
        "\n",
        "vis = {\n",
        "    \"bands\": [\"INTP\"],\n",
        "    \"min\": 0,\n",
        "    \"max\": 0.3\n",
        "}\n",
        "\n",
        "Map = geemap.Map()\n",
        "Map.centerObject(target_image, 11)\n",
        "Map.add_basemap('Esri.WorldImagery')\n",
        "Map.addLayer(target_coefs, vis, \"ccdc coefs\")\n",
        "Map.addLayer(jeffs.arrayFlatten([ccdc_utils.HARMONIC_TAGS]), vis, \"jeffs constant\")\n",
        "Map.addLayer(cloud_score.arrayFlatten([ccdc_utils.HARMONIC_TAGS]), vis, \"cloud score\")\n",
        "Map.addLayer(bulc.arrayFlatten([ccdc_utils.HARMONIC_TAGS]), vis, \"bulc\")\n",
        "Map.addLayer(bulc_cloud_score.arrayFlatten([ccdc_utils.HARMONIC_TAGS]), vis, \"bulc cloud score\")\n",
        "\n",
        "output = ipywidgets.Output()\n",
        "vis_utils.CoefInspector(Map, output, [\"ccdc coefs\", \"jeffs constant\", \"cloud score\", \"bulc\", \"bulc cloud score\"])"
      ]
    },
    {
      "cell_type": "code",
      "execution_count": null,
      "id": "dad8cd3d-0174-40a4-ae6c-90db32c76344",
      "metadata": {
        "id": "dad8cd3d-0174-40a4-ae6c-90db32c76344"
      },
      "outputs": [],
      "source": [
        "Map"
      ]
    },
    {
      "cell_type": "code",
      "execution_count": null,
      "id": "d47a2637-d641-47c8-aa91-0ab52650717d",
      "metadata": {
        "id": "d47a2637-d641-47c8-aa91-0ab52650717d"
      },
      "outputs": [],
      "source": [
        "output"
      ]
    }
  ],
  "metadata": {
    "kernelspec": {
      "display_name": "Python 3 (ipykernel)",
      "language": "python",
      "name": "python3"
    },
    "language_info": {
      "codemirror_mode": {
        "name": "ipython",
        "version": 3
      },
      "file_extension": ".py",
      "mimetype": "text/x-python",
      "name": "python",
      "nbconvert_exporter": "python",
      "pygments_lexer": "ipython3",
      "version": "3.9.16"
    },
    "colab": {
      "provenance": [],
      "include_colab_link": true
    }
  },
  "nbformat": 4,
  "nbformat_minor": 5
}